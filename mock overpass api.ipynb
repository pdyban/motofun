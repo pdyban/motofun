{
 "cells": [
  {
   "cell_type": "code",
   "execution_count": 108,
   "metadata": {
    "collapsed": true
   },
   "outputs": [],
   "source": [
    "import networkx as nx"
   ]
  },
  {
   "cell_type": "code",
   "execution_count": 151,
   "metadata": {
    "collapsed": false
   },
   "outputs": [],
   "source": [
    "G = {}\n",
    "node0 = Waypoint(0, 0)\n",
    "node1 = Waypoint(1, 1)\n",
    "node2 = Waypoint(2, 2)\n",
    "G[node0] = {}\n",
    "G[node0][node0] = {'weight': 0}\n",
    "G[node0][node1] = {'weight': 0}\n",
    "G[node0][node2] = {'weight': 0}\n",
    "G[node1] = {}\n",
    "G[node1][node2] = {'weight': 0}\n",
    "G[node2] = {}\n",
    "\n",
    "dummy_graph = nx.from_dict_of_dicts(G)"
   ]
  },
  {
   "cell_type": "code",
   "execution_count": 153,
   "metadata": {
    "collapsed": false
   },
   "outputs": [],
   "source": [
    "import pickle"
   ]
  },
  {
   "cell_type": "code",
   "execution_count": 155,
   "metadata": {
    "collapsed": false
   },
   "outputs": [
    {
     "data": {
      "text/plain": [
       "b'\\x80\\x03cnetworkx.classes.graph\\nGraph\\nq\\x00)\\x81q\\x01}q\\x02(X\\x05\\x00\\x00\\x00graphq\\x03}q\\x04X\\x11\\x00\\x00\\x00node_dict_factoryq\\x05cbuiltins\\ndict\\nq\\x06X\\x04\\x00\\x00\\x00edgeq\\x07}q\\x08(c__main__\\nWaypoint\\nq\\t)\\x81q\\n}q\\x0b(X\\x03\\x00\\x00\\x00lonq\\x0cK\\x02X\\x03\\x00\\x00\\x00latq\\rK\\x02ub}q\\x0e(h\\t)\\x81q\\x0f}q\\x10(h\\x0cK\\x01h\\rK\\x01ub}q\\x11X\\x06\\x00\\x00\\x00weightq\\x12K\\x00sh\\t)\\x81q\\x13}q\\x14(h\\x0cK\\x00h\\rK\\x00ub}q\\x15h\\x12K\\x00suh\\x0f}q\\x16(h\\nh\\x11h\\x13}q\\x17h\\x12K\\x00suh\\x13}q\\x18(h\\nh\\x15h\\x0fh\\x17h\\x13}q\\x19h\\x12K\\x00suuX\\x03\\x00\\x00\\x00adjq\\x1ah\\x08X\\x04\\x00\\x00\\x00nodeq\\x1b}q\\x1c(h\\n}q\\x1dh\\x0f}q\\x1eh\\x13}q\\x1fuX\\x14\\x00\\x00\\x00adjlist_dict_factoryq h\\x06X\\x16\\x00\\x00\\x00edge_attr_dict_factoryq!h\\x06ub.'"
      ]
     },
     "execution_count": 155,
     "metadata": {},
     "output_type": "execute_result"
    }
   ],
   "source": [
    "pickle.dumps(dummy_graph)"
   ]
  },
  {
   "cell_type": "code",
   "execution_count": 10,
   "metadata": {
    "collapsed": false
   },
   "outputs": [],
   "source": [
    "def execute(query):\n",
    "    import overpy\n",
    "    api = overpy.Overpass()\n",
    "    result = api.query(query)\n",
    "    return result"
   ]
  },
  {
   "cell_type": "code",
   "execution_count": null,
   "metadata": {
    "collapsed": false
   },
   "outputs": [],
   "source": [
    "query = \"\"\"way(47081339);out;\"\"\"\n",
    "execute(query)"
   ]
  },
  {
   "cell_type": "code",
   "execution_count": 60,
   "metadata": {
    "collapsed": false
   },
   "outputs": [
    {
     "data": {
      "text/plain": [
       "<sqlite3.Cursor at 0x10af1a880>"
      ]
     },
     "execution_count": 60,
     "metadata": {},
     "output_type": "execute_result"
    }
   ],
   "source": [
    "import sqlite3\n",
    "\n",
    "dbfile = ''\n",
    "conn = sqlite3.connect(dbfile)\n",
    "c = conn.cursor()\n",
    "c.execute(\"CREATE TABLE CachedQueries (Query, Result )\")"
   ]
  },
  {
   "cell_type": "code",
   "execution_count": 77,
   "metadata": {
    "collapsed": false
   },
   "outputs": [],
   "source": [
    "c.execute(\"INSERT INTO CachedQueries (Query, Result) VALUES (?, ?)\", ('my_query','my_result'))\n",
    "conn.commit()"
   ]
  },
  {
   "cell_type": "code",
   "execution_count": 106,
   "metadata": {
    "collapsed": false
   },
   "outputs": [
    {
     "name": "stdout",
     "output_type": "stream",
     "text": [
      "None\n"
     ]
    }
   ],
   "source": [
    "c.execute(\"SELECT name from sqlite_master where type='table'\")\n",
    "print(c.fetchone())"
   ]
  },
  {
   "cell_type": "code",
   "execution_count": 102,
   "metadata": {
    "collapsed": false
   },
   "outputs": [
    {
     "name": "stdout",
     "output_type": "stream",
     "text": [
      "('my_result',)\n"
     ]
    }
   ],
   "source": [
    "result = c.execute(\"SELECT * FROM CachedQueries\")\n",
    "print(sum(1 for line in result))\n",
    "for i in result:\n",
    "    print(i)"
   ]
  },
  {
   "cell_type": "code",
   "execution_count": 103,
   "metadata": {
    "collapsed": false
   },
   "outputs": [
    {
     "data": {
      "text/plain": [
       "<sqlite3.Cursor at 0x10af1a880>"
      ]
     },
     "execution_count": 103,
     "metadata": {},
     "output_type": "execute_result"
    }
   ],
   "source": [
    "c.execute(\"DROP TABLE CachedQueries\")"
   ]
  },
  {
   "cell_type": "code",
   "execution_count": 11,
   "metadata": {
    "collapsed": false
   },
   "outputs": [],
   "source": [
    "def execute(query):\n",
    "    api = CachedOverpassAPI()\n",
    "    result = api.query(query)\n",
    "    return result"
   ]
  },
  {
   "cell_type": "code",
   "execution_count": 107,
   "metadata": {
    "collapsed": true
   },
   "outputs": [],
   "source": [
    "import json"
   ]
  },
  {
   "cell_type": "code",
   "execution_count": 115,
   "metadata": {
    "collapsed": false
   },
   "outputs": [],
   "source": [
    "dummy_graph_str = json.dumps(nx.to_dict_of_dicts(dummy_graph))"
   ]
  },
  {
   "cell_type": "code",
   "execution_count": 144,
   "metadata": {
    "collapsed": false
   },
   "outputs": [
    {
     "data": {
      "text/plain": [
       "'{\"0\": {\"0\": {\"weight\": 0}, \"1\": {\"weight\": 0}, \"2\": {\"weight\": 0}}, \"1\": {\"0\": {\"weight\": 0}, \"2\": {\"weight\": 0}}, \"2\": {\"0\": {\"weight\": 0}, \"1\": {\"weight\": 0}}}'"
      ]
     },
     "execution_count": 144,
     "metadata": {},
     "output_type": "execute_result"
    }
   ],
   "source": [
    "json.dumps(nx.to_dict_of_dicts(dummy_graph))"
   ]
  },
  {
   "cell_type": "code",
   "execution_count": 146,
   "metadata": {
    "collapsed": false
   },
   "outputs": [
    {
     "data": {
      "text/plain": [
       "'{\"0\": 1}'"
      ]
     },
     "execution_count": 146,
     "metadata": {},
     "output_type": "execute_result"
    }
   ],
   "source": [
    "json.dumps({0: 1})"
   ]
  },
  {
   "cell_type": "code",
   "execution_count": 140,
   "metadata": {
    "collapsed": false
   },
   "outputs": [
    {
     "data": {
      "text/plain": [
       "{'0': {'0': {'weight': 0}, '1': {'weight': 0}, '2': {'weight': 0}},\n",
       " '1': {'0': {'weight': 0}, '2': {'weight': 0}},\n",
       " '2': {'0': {'weight': 0}, '1': {'weight': 0}}}"
      ]
     },
     "execution_count": 140,
     "metadata": {},
     "output_type": "execute_result"
    }
   ],
   "source": [
    "json.loads(dummy_graph_str, parse_int=int)"
   ]
  },
  {
   "cell_type": "code",
   "execution_count": 137,
   "metadata": {
    "collapsed": false
   },
   "outputs": [],
   "source": [
    "dummy_graph_serialized = nx.from_dict_of_dicts(json.loads(dummy_graph_str, parse_int=float))"
   ]
  },
  {
   "cell_type": "code",
   "execution_count": 133,
   "metadata": {
    "collapsed": false
   },
   "outputs": [
    {
     "data": {
      "text/plain": [
       "True"
      ]
     },
     "execution_count": 133,
     "metadata": {},
     "output_type": "execute_result"
    }
   ],
   "source": [
    "dummy_graph_serialized.number_of_edges() == dummy_graph.number_of_edges()"
   ]
  },
  {
   "cell_type": "code",
   "execution_count": 134,
   "metadata": {
    "collapsed": false
   },
   "outputs": [
    {
     "data": {
      "text/plain": [
       "True"
      ]
     },
     "execution_count": 134,
     "metadata": {},
     "output_type": "execute_result"
    }
   ],
   "source": [
    "dummy_graph_serialized.number_of_nodes() == dummy_graph.number_of_nodes()"
   ]
  },
  {
   "cell_type": "code",
   "execution_count": 138,
   "metadata": {
    "collapsed": false
   },
   "outputs": [
    {
     "data": {
      "text/plain": [
       "['1', '0', '2']"
      ]
     },
     "execution_count": 138,
     "metadata": {},
     "output_type": "execute_result"
    }
   ],
   "source": [
    "dummy_graph_serialized.nodes()"
   ]
  },
  {
   "cell_type": "code",
   "execution_count": 136,
   "metadata": {
    "collapsed": false
   },
   "outputs": [
    {
     "data": {
      "text/plain": [
       "[0, 1, 2]"
      ]
     },
     "execution_count": 136,
     "metadata": {},
     "output_type": "execute_result"
    }
   ],
   "source": [
    "dummy_graph.nodes()"
   ]
  },
  {
   "cell_type": "code",
   "execution_count": 149,
   "metadata": {
    "collapsed": false
   },
   "outputs": [],
   "source": [
    "class Waypoint(object):\n",
    "    def __init__(self, lat, lon):\n",
    "        super().__init__()\n",
    "        self.lat = lat\n",
    "        self.lon = lon\n",
    "        \n",
    "    def __str__(self):\n",
    "        return \"Latitude: {0}, Longitude: {1]}\".format(self.lat, self.lon)"
   ]
  }
 ],
 "metadata": {
  "kernelspec": {
   "display_name": "Python 3",
   "language": "python",
   "name": "python3"
  },
  "language_info": {
   "codemirror_mode": {
    "name": "ipython",
    "version": 3
   },
   "file_extension": ".py",
   "mimetype": "text/x-python",
   "name": "python",
   "nbconvert_exporter": "python",
   "pygments_lexer": "ipython3",
   "version": "3.4.4"
  }
 },
 "nbformat": 4,
 "nbformat_minor": 0
}
