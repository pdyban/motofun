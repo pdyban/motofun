{
 "cells": [
  {
   "cell_type": "markdown",
   "metadata": {},
   "source": [
    "In this notebook I will generate a graph from a road and visualize it with matplotlib."
   ]
  },
  {
   "cell_type": "code",
   "execution_count": 1,
   "metadata": {
    "collapsed": true
   },
   "outputs": [],
   "source": [
    "from roadcollector import *"
   ]
  },
  {
   "cell_type": "code",
   "execution_count": 2,
   "metadata": {
    "collapsed": true
   },
   "outputs": [],
   "source": [
    "from roadclassifier import *"
   ]
  },
  {
   "cell_type": "code",
   "execution_count": 3,
   "metadata": {
    "collapsed": true
   },
   "outputs": [],
   "source": [
    "query = \"\"\"(way(161468888);way(47081339););\n",
    "(._;>;);\n",
    "out;\"\"\""
   ]
  },
  {
   "cell_type": "code",
   "execution_count": 4,
   "metadata": {
    "collapsed": true
   },
   "outputs": [],
   "source": [
    "roads = QueryRoadCollector().get_roads(query)"
   ]
  },
  {
   "cell_type": "code",
   "execution_count": 5,
   "metadata": {
    "collapsed": false
   },
   "outputs": [
    {
     "name": "stdout",
     "output_type": "stream",
     "text": [
      "defaultdict(<class 'dict'>, {(Decimal('50.5063959'), Decimal('11.3030570')): {(Decimal('50.5063457'), Decimal('11.3028653')): 0.0}, (Decimal('50.4999972'), Decimal('11.3026413')): {(Decimal('50.4999489'), Decimal('11.3025908')): 0.0}, (Decimal('50.5095385'), Decimal('11.2972514')): {(Decimal('50.5088508'), Decimal('11.2982299')): 0.0}, (Decimal('50.4999358'), Decimal('11.3019224')): {(Decimal('50.4998284'), Decimal('11.3017753')): 0.0}, (Decimal('50.4993949'), Decimal('11.3011589')): {(Decimal('50.4991446'), Decimal('11.3008214')): 0.0}, (Decimal('50.5168615'), Decimal('11.3003299')): {(Decimal('50.5164088'), Decimal('11.2999099')): 0.0}, (Decimal('50.5067625'), Decimal('11.3029650')): {(Decimal('50.5067265'), Decimal('11.3030699')): 0.0}, (Decimal('50.5006540'), Decimal('11.3013907')): {(Decimal('50.5006372'), Decimal('11.3016733')): 0.0}, (Decimal('50.5076681'), Decimal('11.2994716')): {(Decimal('50.5073624'), Decimal('11.3000609')): 0.0}, (Decimal('50.5048964'), Decimal('11.3015869')): {(Decimal('50.5047980'), Decimal('11.3013780')): 0.0}, (Decimal('50.5001791'), Decimal('11.3021725')): {(Decimal('50.5000942'), Decimal('11.3025947')): 0.0}, (Decimal('50.5010825'), Decimal('11.3064398')): {(Decimal('50.5012665'), Decimal('11.3064760')): 0.0}, (Decimal('50.4985339'), Decimal('11.3016604')): {(Decimal('50.4983908'), Decimal('11.3018054')): 0.0}, (Decimal('50.5023264'), Decimal('11.3021030')): {(Decimal('50.5022162'), Decimal('11.3021491')): 0.0}, (Decimal('50.5052674'), Decimal('11.3017413')): {(Decimal('50.5050958'), Decimal('11.3017442')): 0.0}, (Decimal('50.5164088'), Decimal('11.2999099')): {(Decimal('50.5159071'), Decimal('11.2994193')): 0.0}, (Decimal('50.5058875'), Decimal('11.3013091')): {(Decimal('50.5057828'), Decimal('11.3013785')): 0.0}, (Decimal('50.5003283'), Decimal('11.3019203')): {(Decimal('50.5002422'), Decimal('11.3020202')): 0.0}, (Decimal('50.4987220'), Decimal('11.3038581')): {(Decimal('50.4987991'), Decimal('11.3042915')): 0.0}, (Decimal('50.4996791'), Decimal('11.3016317')): {(Decimal('50.4994960'), Decimal('11.3013630')): 0.0}, (Decimal('50.5012665'), Decimal('11.3064760')): {(Decimal('50.5014008'), Decimal('11.3065354')): 0.0}, (Decimal('50.5002999'), Decimal('11.3001654')): {(Decimal('50.5003115'), Decimal('11.3002947')): 0.0}, (Decimal('50.5019908'), Decimal('11.3081701')): {(Decimal('50.5021176'), Decimal('11.3083058')): 0.0}, (Decimal('50.4999489'), Decimal('11.3025908')): {(Decimal('50.4999411'), Decimal('11.3024589')): 0.0}, (Decimal('50.4991446'), Decimal('11.3008214')): {(Decimal('50.4990744'), Decimal('11.3006980')): 0.0}, (Decimal('50.5147065'), Decimal('11.2984583')): {(Decimal('50.5145286'), Decimal('11.2983325')): 0.0}, (Decimal('50.5005870'), Decimal('11.3017605')): {(Decimal('50.5005274'), Decimal('11.3018323')): 0.0}, (Decimal('50.4998346'), Decimal('11.3060135')): {(Decimal('50.4999885'), Decimal('11.3062150')): 0.0}, (Decimal('50.4988780'), Decimal('11.3045398')): {(Decimal('50.4990776'), Decimal('11.3049549')): 0.0}, (Decimal('50.5100189'), Decimal('11.2967278')): {(Decimal('50.5095385'), Decimal('11.2972514')): 0.0}, (Decimal('50.5037189'), Decimal('11.3008716')): {(Decimal('50.5033483'), Decimal('11.3008820')): 0.0}, (Decimal('50.5019228'), Decimal('11.3080367')): {(Decimal('50.5019908'), Decimal('11.3081701')): 0.0}, (Decimal('50.5069348'), Decimal('11.3016717')): {(Decimal('50.5068293'), Decimal('11.3023044')): 0.0}, (Decimal('50.4992479'), Decimal('11.3052788')): {(Decimal('50.4998346'), Decimal('11.3060135')): 0.0}, (Decimal('50.5004479'), Decimal('11.2999771')): {(Decimal('50.5003866'), Decimal('11.2999642')): 0.0}, (Decimal('50.5014008'), Decimal('11.3065354')): {(Decimal('50.5015943'), Decimal('11.3066667')): 0.0}, (Decimal('50.5029027'), Decimal('11.3012712')): {(Decimal('50.5025677'), Decimal('11.3018090')): 0.0}, (Decimal('50.5018908'), Decimal('11.3079335')): {(Decimal('50.5019228'), Decimal('11.3080367')): 0.0}, (Decimal('50.5050958'), Decimal('11.3017442')): {(Decimal('50.5049993'), Decimal('11.3017012')): 0.0}, (Decimal('50.5018070'), Decimal('11.3070810')): {(Decimal('50.5018673'), Decimal('11.3077193')): 0.0}, (Decimal('50.5012478'), Decimal('11.3005533')): {(Decimal('50.5011855'), Decimal('11.3005282')): 0.0}, (Decimal('50.5024709'), Decimal('11.3086549')): {(Decimal('50.5025833'), Decimal('11.3088081')): 0.0}, (Decimal('50.5018008'), Decimal('11.3018969')): {(Decimal('50.5017772'), Decimal('11.3017733')): 0.0}, (Decimal('50.5006372'), Decimal('11.3016733')): {(Decimal('50.5005870'), Decimal('11.3017605')): 0.0}, (Decimal('50.4984642'), Decimal('11.3001321')): {(Decimal('50.4984166'), Decimal('11.3003493')): 0.0}, (Decimal('50.5088508'), Decimal('11.2982299')): {(Decimal('50.5083759'), Decimal('11.2988107')): 0.0}, (Decimal('50.5072241'), Decimal('11.3004299')): {(Decimal('50.5069348'), Decimal('11.3016717')): 0.0}, (Decimal('50.4984166'), Decimal('11.3003493')): {(Decimal('50.4983884'), Decimal('11.3005442')): 0.0}, (Decimal('50.4986946'), Decimal('11.2997492')): {(Decimal('50.4985710'), Decimal('11.2998645')): 0.0}, (Decimal('50.5031328'), Decimal('11.3009829')): {(Decimal('50.5029027'), Decimal('11.3012712')): 0.0}, (Decimal('50.5125320'), Decimal('11.2965799')): {(Decimal('50.5121312'), Decimal('11.2963502')): 0.0}, (Decimal('50.5002483'), Decimal('11.3063399')): {(Decimal('50.5010825'), Decimal('11.3064398')): 0.0}, (Decimal('50.5145286'), Decimal('11.2983325')): {(Decimal('50.5140255'), Decimal('11.2978720')): 0.0}, (Decimal('50.5068293'), Decimal('11.3023044')): {(Decimal('50.5067625'), Decimal('11.3029650')): 0.0}, (Decimal('50.5008173'), Decimal('11.3006568')): {(Decimal('50.5006950'), Decimal('11.3006513')): 0.0}, (Decimal('50.5062961'), Decimal('11.3025128')): {(Decimal('50.5061733'), Decimal('11.3016382')): 0.0}, (Decimal('50.5064716'), Decimal('11.3031713')): {(Decimal('50.5063959'), Decimal('11.3030570')): 0.0}, (Decimal('50.5002422'), Decimal('11.3020202')): {(Decimal('50.5001791'), Decimal('11.3021725')): 0.0}, (Decimal('50.5047131'), Decimal('11.3012082')): {(Decimal('50.5045120'), Decimal('11.3010086')): 0.0}, (Decimal('50.5010792'), Decimal('11.3005480')): {(Decimal('50.5009560'), Decimal('11.3005969')): 0.0}, (Decimal('50.5005274'), Decimal('11.3018323')): {(Decimal('50.5003283'), Decimal('11.3019203')): 0.0}, (Decimal('50.4983908'), Decimal('11.3018054')): {(Decimal('50.4982942'), Decimal('11.3019358')): 0.0}, (Decimal('50.5150454'), Decimal('11.2986257')): {(Decimal('50.5147065'), Decimal('11.2984583')): 0.0}, (Decimal('50.5003893'), Decimal('11.3007119')): {(Decimal('50.5004598'), Decimal('11.3008998')): 0.0}, (Decimal('50.5159071'), Decimal('11.2994193')): {(Decimal('50.5151996'), Decimal('11.2987311')): 0.0}, (Decimal('50.5026455'), Decimal('11.3090008')): {(Decimal('50.5026394'), Decimal('11.3091824')): 0.0}, (Decimal('50.4986884'), Decimal('11.3036124')): {(Decimal('50.4987220'), Decimal('11.3038581')): 0.0}, (Decimal('50.5073624'), Decimal('11.3000609')): {(Decimal('50.5072241'), Decimal('11.3004299')): 0.0}, (Decimal('50.4984240'), Decimal('11.3027179')): {(Decimal('50.4985099'), Decimal('11.3029208')): 0.0}, (Decimal('50.5025833'), Decimal('11.3088081')): {(Decimal('50.5026455'), Decimal('11.3090008')): 0.0}, (Decimal('50.5057828'), Decimal('11.3013785')): {(Decimal('50.5055621'), Decimal('11.3015735')): 0.0}, (Decimal('50.4990261'), Decimal('11.3001866')): {(Decimal('50.4989505'), Decimal('11.2999551')): 0.0}, (Decimal('50.4982865'), Decimal('11.3023979')): {(Decimal('50.4983550'), Decimal('11.3025927')): 0.0}, (Decimal('50.5043710'), Decimal('11.3009385')): {(Decimal('50.5037189'), Decimal('11.3008716')): 0.0}, (Decimal('50.4999675'), Decimal('11.3020274')): {(Decimal('50.4999358'), Decimal('11.3019224')): 0.0}, (Decimal('50.4990776'), Decimal('11.3049549')): {(Decimal('50.4992479'), Decimal('11.3052788')): 0.0}, (Decimal('50.4984170'), Decimal('11.3007754')): {(Decimal('50.4985744'), Decimal('11.3011976')): 0.0}, (Decimal('50.5017696'), Decimal('11.3069059')): {(Decimal('50.5018070'), Decimal('11.3070810')): 0.0}, (Decimal('50.5022162'), Decimal('11.3021491')): {(Decimal('50.5020797'), Decimal('11.3021116')): 0.0}, (Decimal('50.5006162'), Decimal('11.3011652')): {(Decimal('50.5006540'), Decimal('11.3013907')): 0.0}, (Decimal('50.5025677'), Decimal('11.3018090')): {(Decimal('50.5023264'), Decimal('11.3021030')): 0.0}, (Decimal('50.4985744'), Decimal('11.3011976')): {(Decimal('50.4986067'), Decimal('11.3013657')): 0.0}, (Decimal('50.5004598'), Decimal('11.3008998')): {(Decimal('50.5006162'), Decimal('11.3011652')): 0.0}, (Decimal('50.4988282'), Decimal('11.2998093')): {(Decimal('50.4986946'), Decimal('11.2997492')): 0.0}, (Decimal('50.4982355'), Decimal('11.3022217')): {(Decimal('50.4982865'), Decimal('11.3023979')): 0.0}, (Decimal('50.5018462'), Decimal('11.3013450')): {(Decimal('50.5018251'), Decimal('11.3011773')): 0.0}, (Decimal('50.5020797'), Decimal('11.3021116')): {(Decimal('50.5020014'), Decimal('11.3020367')): 0.0}, (Decimal('50.5065707'), Decimal('11.3032091')): {(Decimal('50.5064716'), Decimal('11.3031713')): 0.0}, (Decimal('50.5006950'), Decimal('11.3006513')): {(Decimal('50.5006276'), Decimal('11.3005933')): 0.0}, (Decimal('50.5017730'), Decimal('11.3010667')): {(Decimal('50.5012478'), Decimal('11.3005533')): 0.0}, (Decimal('50.5003115'), Decimal('11.3002947')): {(Decimal('50.5003893'), Decimal('11.3007119')): 0.0}, (Decimal('50.5001259'), Decimal('11.3063148')): {(Decimal('50.5002483'), Decimal('11.3063399')): 0.0}, (Decimal('50.4983550'), Decimal('11.3025927')): {(Decimal('50.4984240'), Decimal('11.3027179')): 0.0}, (Decimal('50.4999885'), Decimal('11.3062150')): {(Decimal('50.5001259'), Decimal('11.3063148')): 0.0}, (Decimal('50.5018251'), Decimal('11.3011773')): {(Decimal('50.5017730'), Decimal('11.3010667')): 0.0}, (Decimal('50.4999411'), Decimal('11.3024589')): {(Decimal('50.4999833'), Decimal('11.3021713')): 0.0}, (Decimal('50.5004987'), Decimal('11.3000510')): {(Decimal('50.5004479'), Decimal('11.2999771')): 0.0}, (Decimal('50.5019424'), Decimal('11.3019315')): {(Decimal('50.5018615'), Decimal('11.3019290')): 0.0}, (Decimal('50.4999833'), Decimal('11.3021713')): {(Decimal('50.4999675'), Decimal('11.3020274')): 0.0}, (Decimal('50.5121312'), Decimal('11.2963502')): {(Decimal('50.5117411'), Decimal('11.2962736')): 0.0}, (Decimal('50.5005343'), Decimal('11.3003929')): {(Decimal('50.5005136'), Decimal('11.3002187')): 0.0}, (Decimal('50.4986067'), Decimal('11.3013657')): {(Decimal('50.4985916'), Decimal('11.3014918')): 0.0}, (Decimal('50.4989505'), Decimal('11.2999551')): {(Decimal('50.4988282'), Decimal('11.2998093')): 0.0}, (Decimal('50.5177826'), Decimal('11.3011098')): {(Decimal('50.5168615'), Decimal('11.3003299')): 0.0}, (Decimal('50.5003161'), Decimal('11.3000483')): {(Decimal('50.5002999'), Decimal('11.3001654')): 0.0}, (Decimal('50.4982942'), Decimal('11.3019358')): {(Decimal('50.4982367'), Decimal('11.3020518')): 0.0}, (Decimal('50.4983884'), Decimal('11.3005442')): {(Decimal('50.4984170'), Decimal('11.3007754')): 0.0}, (Decimal('50.4985710'), Decimal('11.2998645')): {(Decimal('50.4984642'), Decimal('11.3001321')): 0.0}, (Decimal('50.5055621'), Decimal('11.3015735')): {(Decimal('50.5052674'), Decimal('11.3017413')): 0.0}, (Decimal('50.5083759'), Decimal('11.2988107')): {(Decimal('50.5076681'), Decimal('11.2994716')): 0.0}, (Decimal('50.5018673'), Decimal('11.3077193')): {(Decimal('50.5018908'), Decimal('11.3079335')): 0.0}, (Decimal('50.4987991'), Decimal('11.3042915')): {(Decimal('50.4988780'), Decimal('11.3045398')): 0.0}, (Decimal('50.5151996'), Decimal('11.2987311')): {(Decimal('50.5150454'), Decimal('11.2986257')): 0.0}, (Decimal('50.5000336'), Decimal('11.3026571')): {(Decimal('50.4999972'), Decimal('11.3026413')): 0.0}, (Decimal('50.5006276'), Decimal('11.3005933')): {(Decimal('50.5005726'), Decimal('11.3005171')): 0.0}, (Decimal('50.5061733'), Decimal('11.3016382')): {(Decimal('50.5061020'), Decimal('11.3014104')): 0.0}, (Decimal('50.5049993'), Decimal('11.3017012')): {(Decimal('50.5048964'), Decimal('11.3015869')): 0.0}, (Decimal('50.5061020'), Decimal('11.3014104')): {(Decimal('50.5059808'), Decimal('11.3012989')): 0.0}, (Decimal('50.4990404'), Decimal('11.3005490')): {(Decimal('50.4990255'), Decimal('11.3003430')): 0.0}, (Decimal('50.4985099'), Decimal('11.3029208')): {(Decimal('50.4986005'), Decimal('11.3032529')): 0.0}, (Decimal('50.5009560'), Decimal('11.3005969')): {(Decimal('50.5009065'), Decimal('11.3006317')): 0.0}, (Decimal('50.4994960'), Decimal('11.3013630')): {(Decimal('50.4993949'), Decimal('11.3011589')): 0.0}, (Decimal('50.4982367'), Decimal('11.3020518')): {(Decimal('50.4982355'), Decimal('11.3022217')): 0.0}, (Decimal('50.4990744'), Decimal('11.3006980')): {(Decimal('50.4990404'), Decimal('11.3005490')): 0.0}, (Decimal('50.5017772'), Decimal('11.3017733')): {(Decimal('50.5018462'), Decimal('11.3013450')): 0.0}, (Decimal('50.4998284'), Decimal('11.3017753')): {(Decimal('50.4996791'), Decimal('11.3016317')): 0.0}, (Decimal('50.5005136'), Decimal('11.3002187')): {(Decimal('50.5004987'), Decimal('11.3000510')): 0.0}, (Decimal('50.5021176'), Decimal('11.3083058')): {(Decimal('50.5024709'), Decimal('11.3086549')): 0.0}, (Decimal('50.5018615'), Decimal('11.3019290')): {(Decimal('50.5018008'), Decimal('11.3018969')): 0.0}, (Decimal('50.5107885'), Decimal('11.2963931')): {(Decimal('50.5100189'), Decimal('11.2967278')): 0.0}, (Decimal('50.4990255'), Decimal('11.3003430')): {(Decimal('50.4990261'), Decimal('11.3001866')): 0.0}, (Decimal('50.5047980'), Decimal('11.3013780')): {(Decimal('50.5047131'), Decimal('11.3012082')): 0.0}, (Decimal('50.5011855'), Decimal('11.3005282')): {(Decimal('50.5010792'), Decimal('11.3005480')): 0.0}, (Decimal('50.5045120'), Decimal('11.3010086')): {(Decimal('50.5043710'), Decimal('11.3009385')): 0.0}, (Decimal('50.5059808'), Decimal('11.3012989')): {(Decimal('50.5058875'), Decimal('11.3013091')): 0.0}, (Decimal('50.5129368'), Decimal('11.2968777')): {(Decimal('50.5125320'), Decimal('11.2965799')): 0.0}, (Decimal('50.5000942'), Decimal('11.3025947')): {(Decimal('50.5000336'), Decimal('11.3026571')): 0.0}, (Decimal('50.5016986'), Decimal('11.3067679')): {(Decimal('50.5017696'), Decimal('11.3069059')): 0.0}, (Decimal('50.5117411'), Decimal('11.2962736')): {(Decimal('50.5113289'), Decimal('11.2962386')): 0.0}, (Decimal('50.5020014'), Decimal('11.3020367')): {(Decimal('50.5019424'), Decimal('11.3019315')): 0.0}, (Decimal('50.5113289'), Decimal('11.2962386')): {(Decimal('50.5107885'), Decimal('11.2963931')): 0.0}, (Decimal('50.5015943'), Decimal('11.3066667')): {(Decimal('50.5016986'), Decimal('11.3067679')): 0.0}, (Decimal('50.5063457'), Decimal('11.3028653')): {(Decimal('50.5062961'), Decimal('11.3025128')): 0.0}, (Decimal('50.5026132'), Decimal('11.3093691')): {(Decimal('50.5024444'), Decimal('11.3100877')): 0.0}, (Decimal('50.4985916'), Decimal('11.3014918')): {(Decimal('50.4985339'), Decimal('11.3016604')): 0.0}, (Decimal('50.5133047'), Decimal('11.2971999')): {(Decimal('50.5129368'), Decimal('11.2968777')): 0.0}, (Decimal('50.5005726'), Decimal('11.3005171')): {(Decimal('50.5005343'), Decimal('11.3003929')): 0.0}, (Decimal('50.5067265'), Decimal('11.3030699')): {(Decimal('50.5066557'), Decimal('11.3031614')): 0.0}, (Decimal('50.5026394'), Decimal('11.3091824')): {(Decimal('50.5026132'), Decimal('11.3093691')): 0.0}, (Decimal('50.5140255'), Decimal('11.2978720')): {(Decimal('50.5133047'), Decimal('11.2971999')): 0.0}, (Decimal('50.5033483'), Decimal('11.3008820')): {(Decimal('50.5031328'), Decimal('11.3009829')): 0.0}, (Decimal('50.5003866'), Decimal('11.2999642')): {(Decimal('50.5003161'), Decimal('11.3000483')): 0.0}, (Decimal('50.5066557'), Decimal('11.3031614')): {(Decimal('50.5065707'), Decimal('11.3032091')): 0.0}, (Decimal('50.4986005'), Decimal('11.3032529')): {(Decimal('50.4986884'), Decimal('11.3036124')): 0.0}, (Decimal('50.5009065'), Decimal('11.3006317')): {(Decimal('50.5008173'), Decimal('11.3006568')): 0.0}})\n"
     ]
    }
   ],
   "source": [
    "print(roads)"
   ]
  },
  {
   "cell_type": "code",
   "execution_count": 6,
   "metadata": {
    "collapsed": true
   },
   "outputs": [],
   "source": [
    "classifier = VectorAngleRoadClassifier()"
   ]
  },
  {
   "cell_type": "code",
   "execution_count": 7,
   "metadata": {
    "collapsed": true
   },
   "outputs": [],
   "source": [
    "graph = classifier.get_classification(roads)"
   ]
  },
  {
   "cell_type": "code",
   "execution_count": 8,
   "metadata": {
    "collapsed": true
   },
   "outputs": [],
   "source": [
    "import matplotlib.pyplot as plt"
   ]
  },
  {
   "cell_type": "code",
   "execution_count": 9,
   "metadata": {
    "collapsed": false
   },
   "outputs": [],
   "source": [
    "def visit_graph(graph, node, visited):\n",
    "    visited.append(node)\n",
    "    # for node in graph:\n",
    "    if node not in graph:\n",
    "        return\n",
    "    \n",
    "    for other in graph[node]:\n",
    "        # print('%s -> %s : %.2f' % (node, other, graph[node][other]))\n",
    "        if other not in visited:\n",
    "            visit_graph(graph, other, visited)\n",
    "\n",
    "x, y = roads.get_waypoints_for_plotting()\n",
    "for x_, y_ in zip(x,y):\n",
    "    plt.plot(x_, y_, c='red')\n",
    "plt.show()"
   ]
  },
  {
   "cell_type": "code",
   "execution_count": null,
   "metadata": {
    "collapsed": true
   },
   "outputs": [],
   "source": []
  }
 ],
 "metadata": {
  "kernelspec": {
   "display_name": "Python 3",
   "language": "python",
   "name": "python3"
  },
  "language_info": {
   "codemirror_mode": {
    "name": "ipython",
    "version": 3
   },
   "file_extension": ".py",
   "mimetype": "text/x-python",
   "name": "python",
   "nbconvert_exporter": "python",
   "pygments_lexer": "ipython3",
   "version": "3.4.4"
  }
 },
 "nbformat": 4,
 "nbformat_minor": 0
}
