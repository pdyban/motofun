{
 "cells": [
  {
   "cell_type": "markdown",
   "metadata": {},
   "source": [
    "In this notebook I will generate a graph from a road and visualize it with matplotlib."
   ]
  },
  {
   "cell_type": "code",
   "execution_count": 1,
   "metadata": {},
   "outputs": [],
   "source": [
    "from roadcollector import *"
   ]
  },
  {
   "cell_type": "code",
   "execution_count": 2,
   "metadata": {},
   "outputs": [],
   "source": [
    "from roadclassifier import *"
   ]
  },
  {
   "cell_type": "code",
   "execution_count": 3,
   "metadata": {},
   "outputs": [],
   "source": [
    "query = \"\"\"(way(161468888);way(47081339););\n",
    "(._;>;);\n",
    "out;\"\"\""
   ]
  },
  {
   "cell_type": "code",
   "execution_count": 4,
   "metadata": {},
   "outputs": [],
   "source": [
    "roads = QueryRoadCollector().get_roads(query)"
   ]
  },
  {
   "cell_type": "code",
   "execution_count": 5,
   "metadata": {},
   "outputs": [],
   "source": [
    "classifier = VectorAngleRoadClassifier()"
   ]
  },
  {
   "cell_type": "code",
   "execution_count": 6,
   "metadata": {},
   "outputs": [],
   "source": [
    "graph = classifier.get_classification(roads)"
   ]
  },
  {
   "cell_type": "code",
   "execution_count": 7,
   "metadata": {},
   "outputs": [],
   "source": [
    "import matplotlib.pyplot as plt"
   ]
  },
  {
   "cell_type": "code",
   "execution_count": 41,
   "metadata": {},
   "outputs": [],
   "source": [
    "def visit_graph(graph, node, visited):\n",
    "    visited.append(node)\n",
    "    # for node in graph:\n",
    "    if node not in graph:\n",
    "        return\n",
    "    \n",
    "    for other in graph[node]:\n",
    "        # print('%s -> %s : %.2f' % (node, other, graph[node][other]))\n",
    "        if other not in visited:\n",
    "            visit_graph(graph, other, visited)\n",
    "            \n",
    "for node in graph:\n",
    "    path = []\n",
    "    visit_graph(graph, node, path)\n",
    "    for index in range(len(path)-1):        \n",
    "        intensity = graph[path[index]][path[index+1]]\n",
    "        if intensity > .5:\n",
    "            color = 'red'\n",
    "        elif intensity > .3:\n",
    "            color = 'green'\n",
    "        elif intensity > .1:\n",
    "            color = 'blue'\n",
    "        elif intensity > .05:\n",
    "            color = 'black'\n",
    "        else:\n",
    "            color = 'gray'\n",
    "            \n",
    "        plt.plot([path[index][0], path[index+1][0]],[path[index][1], path[index+1][1]], c=color)\n",
    "    plt.show()\n",
    "    break"
   ]
  }
 ],
 "metadata": {
  "kernelspec": {
   "display_name": "Python 3",
   "language": "python",
   "name": "python3"
  },
  "language_info": {
   "codemirror_mode": {
    "name": "ipython",
    "version": 3.0
   },
   "file_extension": ".py",
   "mimetype": "text/x-python",
   "name": "python",
   "nbconvert_exporter": "python",
   "pygments_lexer": "ipython3",
   "version": "3.4.4"
  }
 },
 "nbformat": 4,
 "nbformat_minor": 0
}