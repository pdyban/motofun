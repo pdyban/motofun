{
 "cells": [
  {
   "cell_type": "code",
   "execution_count": 1,
   "metadata": {
    "collapsed": true
   },
   "outputs": [],
   "source": [
    "import networkx as nx"
   ]
  },
  {
   "cell_type": "code",
   "execution_count": 5,
   "metadata": {
    "collapsed": true
   },
   "outputs": [],
   "source": [
    "G = {}\n",
    "G[0] = {}\n",
    "G[0][0] = {'weight': 0}\n",
    "G[0][1] = {'weight': 0}\n",
    "G[0][2] = {'weight': 0}\n",
    "G[1] = {}\n",
    "G[1][2] = {'weight': 0}\n",
    "G[2] = {}"
   ]
  },
  {
   "cell_type": "code",
   "execution_count": 8,
   "metadata": {
    "collapsed": false
   },
   "outputs": [],
   "source": [
    "NG = nx.from_dict_of_dicts(G)"
   ]
  },
  {
   "cell_type": "code",
   "execution_count": 23,
   "metadata": {
    "collapsed": false
   },
   "outputs": [
    {
     "name": "stdout",
     "output_type": "stream",
     "text": [
      "4\n",
      "3\n"
     ]
    }
   ],
   "source": [
    "print(NG.number_of_edges())\n",
    "print(NG.number_of_nodes())"
   ]
  },
  {
   "cell_type": "code",
   "execution_count": 35,
   "metadata": {
    "collapsed": false
   },
   "outputs": [
    {
     "name": "stdout",
     "output_type": "stream",
     "text": [
      "0 0\n",
      "0 1\n",
      "NEIGHBOR 2\n",
      "0 2\n",
      "NEIGHBOR 1\n",
      "1 2\n",
      "NEIGHBOR 0\n"
     ]
    }
   ],
   "source": [
    "for edge in NG.edges_iter():\n",
    "    start, finish = edge\n",
    "    print(start, finish)\n",
    "    # print(NG.neighbors(finish))\n",
    "    candidates = [n for n in NG.neighbors(finish) if start != n]\n",
    "    if len(candidates) > 1:\n",
    "        continue\n",
    "        \n",
    "    print('NEIGHBOR', candidates[0])"
   ]
  }
 ],
 "metadata": {
  "kernelspec": {
   "display_name": "Python 3",
   "language": "python",
   "name": "python3"
  },
  "language_info": {
   "codemirror_mode": {
    "name": "ipython",
    "version": 3
   },
   "file_extension": ".py",
   "mimetype": "text/x-python",
   "name": "python",
   "nbconvert_exporter": "python",
   "pygments_lexer": "ipython3",
   "version": "3.4.4"
  }
 },
 "nbformat": 4,
 "nbformat_minor": 0
}
